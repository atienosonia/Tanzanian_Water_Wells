{
 "cells": [
  {
   "attachments": {},
   "cell_type": "markdown",
   "metadata": {},
   "source": [
    "## **Tanzanian Water Wells Prediction**\n"
   ]
  },
  {
   "attachments": {},
   "cell_type": "markdown",
   "metadata": {},
   "source": [
    "![Alt text](well-img.jpg)"
   ]
  },
  {
   "attachments": {},
   "cell_type": "markdown",
   "metadata": {},
   "source": [
    "## Business Understanding "
   ]
  },
  {
   "attachments": {},
   "cell_type": "markdown",
   "metadata": {},
   "source": [
    "### Problem Statement "
   ]
  },
  {
   "attachments": {},
   "cell_type": "markdown",
   "metadata": {},
   "source": [
    "Tanzania is an East African country situated south of the Equator . Tanzania National Bureau of Statistics estimates a population of 61.8 million people. A publication done by World Bank estimates that 61% of the population has acces to basic water supply , this has been made possible through programs such as the Water Sector Development Program, since the commencement of the project, Tanzania has made significant progress towards access to water, sanitation and hygiene services, half the population now has access to clean water in the rainy season and two-thirds of the population during the dry season.\n",
    "\n",
    "Despite the significant progress made, a considerable amount of the population still suffers from adverse effects of inadequate water supply and sanitation. Tanzania has had to contend  with death and disease as an immediate consequence of this with the burden falling heaviest on women, children, the poor and the vulnerable. \n",
    "\n",
    "The UN-Habitat in partnership with government wants to set up an initiative to curb this problem by looking into faultiness of water pumps in existing water wells. Some water pumps are functional but in need of maintenance while others are simply non-functional. \n",
    "\n",
    "My task as a data scientist is to be able to locate patterns in non-fuctional wells with the aim of providing insights on the core factors to consider while building the wells. These patterns will enable our stakeholders to accurately predict water pumps that need maintenance and water points that the stakeholders should chanel their resources to.\n"
   ]
  },
  {
   "attachments": {},
   "cell_type": "markdown",
   "metadata": {},
   "source": [
    "### Objectives\n",
    "* To identify the patterns in functional and non-functional wells.\n",
    "\n",
    "* To identify features to consider when building wells.\n",
    "\n",
    "* To predict the functionality of a well based on the features provided.\n"
   ]
  },
  {
   "attachments": {},
   "cell_type": "markdown",
   "metadata": {},
   "source": [
    "### Evaluation Metrics for Success"
   ]
  },
  {
   "attachments": {},
   "cell_type": "markdown",
   "metadata": {},
   "source": [
    "1. Have a recall score of 84% and above \n",
    "\n",
    "2. Have an accuracy score of 92% and above "
   ]
  },
  {
   "attachments": {},
   "cell_type": "markdown",
   "metadata": {},
   "source": [
    "## Data Understanding"
   ]
  },
  {
   "attachments": {},
   "cell_type": "markdown",
   "metadata": {},
   "source": [
    "Load Libraries "
   ]
  },
  {
   "cell_type": "code",
   "execution_count": 161,
   "metadata": {},
   "outputs": [],
   "source": [
    "import numpy as np \n",
    "import pandas as pd \n",
    "\n",
    "import matplotlib.pyplot as plt\n",
    "import seaborn as sns\n",
    "%matplotlib inline\n",
    "\n",
    "from sklearn.model_selection import train_test_split\n",
    "from sklearn.model_selection import GridSearchCV\n",
    "\n",
    "from sklearn.metrics import accuracy_score, recall_score\n",
    "from sklearn.metrics import confusion_matrix, plot_confusion_matrix\n",
    "\n",
    "from sklearn.tree import DecisionTreeClassifier\n",
    "\n",
    "from sklearn.neighbors import KNeighborsClassifier\n",
    "\n",
    "from sklearn.preprocessing import OneHotEncoder\n",
    "from sklearn.preprocessing import FunctionTransformer\n",
    "from sklearn.preprocessing import StandardScaler\n",
    "\n",
    "from sklearn.compose import ColumnTransformer\n",
    "\n",
    "from sklearn.pipeline import Pipeline\n",
    "\n",
    "from sklearn.ensemble import RandomForestClassifier\n",
    "\n",
    "from imblearn.over_sampling import SMOTE \n"
   ]
  },
  {
   "attachments": {},
   "cell_type": "markdown",
   "metadata": {},
   "source": [
    "Load Data"
   ]
  },
  {
   "cell_type": "code",
   "execution_count": 162,
   "metadata": {},
   "outputs": [],
   "source": [
    "# loading training set values and training set labels data\n",
    "\n",
    "def read_data(path):\n",
    "\n",
    "    data = pd.read_csv(path)\n",
    "\n",
    "    return data\n",
    "\n",
    "df_1 = read_data(r'C:\\Users\\user\\Documents\\Tanzania Water Wells\\training set values.csv')\n",
    "df_2 = read_data(r'C:\\Users\\user\\Documents\\Tanzania Water Wells\\training set labels.csv')"
   ]
  },
  {
   "cell_type": "code",
   "execution_count": 163,
   "metadata": {},
   "outputs": [
    {
     "data": {
      "text/html": [
       "<div>\n",
       "<style scoped>\n",
       "    .dataframe tbody tr th:only-of-type {\n",
       "        vertical-align: middle;\n",
       "    }\n",
       "\n",
       "    .dataframe tbody tr th {\n",
       "        vertical-align: top;\n",
       "    }\n",
       "\n",
       "    .dataframe thead th {\n",
       "        text-align: right;\n",
       "    }\n",
       "</style>\n",
       "<table border=\"1\" class=\"dataframe\">\n",
       "  <thead>\n",
       "    <tr style=\"text-align: right;\">\n",
       "      <th></th>\n",
       "      <th>amount_tsh</th>\n",
       "      <th>date_recorded</th>\n",
       "      <th>funder</th>\n",
       "      <th>gps_height</th>\n",
       "      <th>installer</th>\n",
       "      <th>longitude</th>\n",
       "      <th>latitude</th>\n",
       "      <th>wpt_name</th>\n",
       "      <th>num_private</th>\n",
       "      <th>basin</th>\n",
       "      <th>...</th>\n",
       "      <th>water_quality</th>\n",
       "      <th>quality_group</th>\n",
       "      <th>quantity</th>\n",
       "      <th>quantity_group</th>\n",
       "      <th>source</th>\n",
       "      <th>source_type</th>\n",
       "      <th>source_class</th>\n",
       "      <th>waterpoint_type</th>\n",
       "      <th>waterpoint_type_group</th>\n",
       "      <th>status_group</th>\n",
       "    </tr>\n",
       "    <tr>\n",
       "      <th>id</th>\n",
       "      <th></th>\n",
       "      <th></th>\n",
       "      <th></th>\n",
       "      <th></th>\n",
       "      <th></th>\n",
       "      <th></th>\n",
       "      <th></th>\n",
       "      <th></th>\n",
       "      <th></th>\n",
       "      <th></th>\n",
       "      <th></th>\n",
       "      <th></th>\n",
       "      <th></th>\n",
       "      <th></th>\n",
       "      <th></th>\n",
       "      <th></th>\n",
       "      <th></th>\n",
       "      <th></th>\n",
       "      <th></th>\n",
       "      <th></th>\n",
       "      <th></th>\n",
       "    </tr>\n",
       "  </thead>\n",
       "  <tbody>\n",
       "    <tr>\n",
       "      <th>69572</th>\n",
       "      <td>6000.0</td>\n",
       "      <td>2011-03-14</td>\n",
       "      <td>Roman</td>\n",
       "      <td>1390</td>\n",
       "      <td>Roman</td>\n",
       "      <td>34.938093</td>\n",
       "      <td>-9.856322</td>\n",
       "      <td>none</td>\n",
       "      <td>0</td>\n",
       "      <td>Lake Nyasa</td>\n",
       "      <td>...</td>\n",
       "      <td>soft</td>\n",
       "      <td>good</td>\n",
       "      <td>enough</td>\n",
       "      <td>enough</td>\n",
       "      <td>spring</td>\n",
       "      <td>spring</td>\n",
       "      <td>groundwater</td>\n",
       "      <td>communal standpipe</td>\n",
       "      <td>communal standpipe</td>\n",
       "      <td>functional</td>\n",
       "    </tr>\n",
       "    <tr>\n",
       "      <th>8776</th>\n",
       "      <td>0.0</td>\n",
       "      <td>2013-03-06</td>\n",
       "      <td>Grumeti</td>\n",
       "      <td>1399</td>\n",
       "      <td>GRUMETI</td>\n",
       "      <td>34.698766</td>\n",
       "      <td>-2.147466</td>\n",
       "      <td>Zahanati</td>\n",
       "      <td>0</td>\n",
       "      <td>Lake Victoria</td>\n",
       "      <td>...</td>\n",
       "      <td>soft</td>\n",
       "      <td>good</td>\n",
       "      <td>insufficient</td>\n",
       "      <td>insufficient</td>\n",
       "      <td>rainwater harvesting</td>\n",
       "      <td>rainwater harvesting</td>\n",
       "      <td>surface</td>\n",
       "      <td>communal standpipe</td>\n",
       "      <td>communal standpipe</td>\n",
       "      <td>functional</td>\n",
       "    </tr>\n",
       "    <tr>\n",
       "      <th>34310</th>\n",
       "      <td>25.0</td>\n",
       "      <td>2013-02-25</td>\n",
       "      <td>Lottery Club</td>\n",
       "      <td>686</td>\n",
       "      <td>World vision</td>\n",
       "      <td>37.460664</td>\n",
       "      <td>-3.821329</td>\n",
       "      <td>Kwa Mahundi</td>\n",
       "      <td>0</td>\n",
       "      <td>Pangani</td>\n",
       "      <td>...</td>\n",
       "      <td>soft</td>\n",
       "      <td>good</td>\n",
       "      <td>enough</td>\n",
       "      <td>enough</td>\n",
       "      <td>dam</td>\n",
       "      <td>dam</td>\n",
       "      <td>surface</td>\n",
       "      <td>communal standpipe multiple</td>\n",
       "      <td>communal standpipe</td>\n",
       "      <td>functional</td>\n",
       "    </tr>\n",
       "    <tr>\n",
       "      <th>67743</th>\n",
       "      <td>0.0</td>\n",
       "      <td>2013-01-28</td>\n",
       "      <td>Unicef</td>\n",
       "      <td>263</td>\n",
       "      <td>UNICEF</td>\n",
       "      <td>38.486161</td>\n",
       "      <td>-11.155298</td>\n",
       "      <td>Zahanati Ya Nanyumbu</td>\n",
       "      <td>0</td>\n",
       "      <td>Ruvuma / Southern Coast</td>\n",
       "      <td>...</td>\n",
       "      <td>soft</td>\n",
       "      <td>good</td>\n",
       "      <td>dry</td>\n",
       "      <td>dry</td>\n",
       "      <td>machine dbh</td>\n",
       "      <td>borehole</td>\n",
       "      <td>groundwater</td>\n",
       "      <td>communal standpipe multiple</td>\n",
       "      <td>communal standpipe</td>\n",
       "      <td>non functional</td>\n",
       "    </tr>\n",
       "    <tr>\n",
       "      <th>19728</th>\n",
       "      <td>0.0</td>\n",
       "      <td>2011-07-13</td>\n",
       "      <td>Action In A</td>\n",
       "      <td>0</td>\n",
       "      <td>Artisan</td>\n",
       "      <td>31.130847</td>\n",
       "      <td>-1.825359</td>\n",
       "      <td>Shuleni</td>\n",
       "      <td>0</td>\n",
       "      <td>Lake Victoria</td>\n",
       "      <td>...</td>\n",
       "      <td>soft</td>\n",
       "      <td>good</td>\n",
       "      <td>seasonal</td>\n",
       "      <td>seasonal</td>\n",
       "      <td>rainwater harvesting</td>\n",
       "      <td>rainwater harvesting</td>\n",
       "      <td>surface</td>\n",
       "      <td>communal standpipe</td>\n",
       "      <td>communal standpipe</td>\n",
       "      <td>functional</td>\n",
       "    </tr>\n",
       "  </tbody>\n",
       "</table>\n",
       "<p>5 rows × 40 columns</p>\n",
       "</div>"
      ],
      "text/plain": [
       "       amount_tsh date_recorded        funder  gps_height     installer  \\\n",
       "id                                                                        \n",
       "69572      6000.0    2011-03-14         Roman        1390         Roman   \n",
       "8776          0.0    2013-03-06       Grumeti        1399       GRUMETI   \n",
       "34310        25.0    2013-02-25  Lottery Club         686  World vision   \n",
       "67743         0.0    2013-01-28        Unicef         263        UNICEF   \n",
       "19728         0.0    2011-07-13   Action In A           0       Artisan   \n",
       "\n",
       "       longitude   latitude              wpt_name  num_private  \\\n",
       "id                                                               \n",
       "69572  34.938093  -9.856322                  none            0   \n",
       "8776   34.698766  -2.147466              Zahanati            0   \n",
       "34310  37.460664  -3.821329           Kwa Mahundi            0   \n",
       "67743  38.486161 -11.155298  Zahanati Ya Nanyumbu            0   \n",
       "19728  31.130847  -1.825359               Shuleni            0   \n",
       "\n",
       "                         basin  ... water_quality quality_group      quantity  \\\n",
       "id                              ...                                             \n",
       "69572               Lake Nyasa  ...          soft          good        enough   \n",
       "8776             Lake Victoria  ...          soft          good  insufficient   \n",
       "34310                  Pangani  ...          soft          good        enough   \n",
       "67743  Ruvuma / Southern Coast  ...          soft          good           dry   \n",
       "19728            Lake Victoria  ...          soft          good      seasonal   \n",
       "\n",
       "       quantity_group                source           source_type  \\\n",
       "id                                                                  \n",
       "69572          enough                spring                spring   \n",
       "8776     insufficient  rainwater harvesting  rainwater harvesting   \n",
       "34310          enough                   dam                   dam   \n",
       "67743             dry           machine dbh              borehole   \n",
       "19728        seasonal  rainwater harvesting  rainwater harvesting   \n",
       "\n",
       "       source_class              waterpoint_type waterpoint_type_group  \\\n",
       "id                                                                       \n",
       "69572   groundwater           communal standpipe    communal standpipe   \n",
       "8776        surface           communal standpipe    communal standpipe   \n",
       "34310       surface  communal standpipe multiple    communal standpipe   \n",
       "67743   groundwater  communal standpipe multiple    communal standpipe   \n",
       "19728       surface           communal standpipe    communal standpipe   \n",
       "\n",
       "         status_group  \n",
       "id                     \n",
       "69572      functional  \n",
       "8776       functional  \n",
       "34310      functional  \n",
       "67743  non functional  \n",
       "19728      functional  \n",
       "\n",
       "[5 rows x 40 columns]"
      ]
     },
     "execution_count": 163,
     "metadata": {},
     "output_type": "execute_result"
    }
   ],
   "source": [
    "# combining the two datasets \n",
    "\n",
    "def combined_dataframe(data_0, data_1):\n",
    "\n",
    "    new_df = data_0.set_index('id').join(data_1.set_index('id'))\n",
    "\n",
    "    return new_df\n",
    "\n",
    "df = combined_dataframe(df_1, df_2)\n",
    "df.head()"
   ]
  },
  {
   "cell_type": "code",
   "execution_count": 164,
   "metadata": {},
   "outputs": [
    {
     "data": {
      "text/plain": [
       "Index(['amount_tsh', 'date_recorded', 'funder', 'gps_height', 'installer',\n",
       "       'longitude', 'latitude', 'wpt_name', 'num_private', 'basin',\n",
       "       'subvillage', 'region', 'region_code', 'district_code', 'lga', 'ward',\n",
       "       'population', 'public_meeting', 'recorded_by', 'scheme_management',\n",
       "       'scheme_name', 'permit', 'construction_year', 'extraction_type',\n",
       "       'extraction_type_group', 'extraction_type_class', 'management',\n",
       "       'management_group', 'payment', 'payment_type', 'water_quality',\n",
       "       'quality_group', 'quantity', 'quantity_group', 'source', 'source_type',\n",
       "       'source_class', 'waterpoint_type', 'waterpoint_type_group',\n",
       "       'status_group'],\n",
       "      dtype='object')"
      ]
     },
     "execution_count": 164,
     "metadata": {},
     "output_type": "execute_result"
    }
   ],
   "source": [
    "# checking the columns of our dataset\n",
    "\n",
    "def read_columns(data):\n",
    "\n",
    "    columns = data.columns\n",
    "\n",
    "    return columns\n",
    "    \n",
    "\n",
    "read_columns(df)"
   ]
  },
  {
   "cell_type": "code",
   "execution_count": 165,
   "metadata": {},
   "outputs": [
    {
     "name": "stdout",
     "output_type": "stream",
     "text": [
      "The shape of our dataset is: (59400, 40)\n",
      "with 59400 number of rows\n",
      "and 40 columns\n",
      "********************************************************\n",
      "********************************************************\n",
      "<class 'pandas.core.frame.DataFrame'>\n",
      "Int64Index: 59400 entries, 69572 to 26348\n",
      "Data columns (total 40 columns):\n",
      " #   Column                 Non-Null Count  Dtype  \n",
      "---  ------                 --------------  -----  \n",
      " 0   amount_tsh             59400 non-null  float64\n",
      " 1   date_recorded          59400 non-null  object \n",
      " 2   funder                 55765 non-null  object \n",
      " 3   gps_height             59400 non-null  int64  \n",
      " 4   installer              55745 non-null  object \n",
      " 5   longitude              59400 non-null  float64\n",
      " 6   latitude               59400 non-null  float64\n",
      " 7   wpt_name               59400 non-null  object \n",
      " 8   num_private            59400 non-null  int64  \n",
      " 9   basin                  59400 non-null  object \n",
      " 10  subvillage             59029 non-null  object \n",
      " 11  region                 59400 non-null  object \n",
      " 12  region_code            59400 non-null  int64  \n",
      " 13  district_code          59400 non-null  int64  \n",
      " 14  lga                    59400 non-null  object \n",
      " 15  ward                   59400 non-null  object \n",
      " 16  population             59400 non-null  int64  \n",
      " 17  public_meeting         56066 non-null  object \n",
      " 18  recorded_by            59400 non-null  object \n",
      " 19  scheme_management      55523 non-null  object \n",
      " 20  scheme_name            31234 non-null  object \n",
      " 21  permit                 56344 non-null  object \n",
      " 22  construction_year      59400 non-null  int64  \n",
      " 23  extraction_type        59400 non-null  object \n",
      " 24  extraction_type_group  59400 non-null  object \n",
      " 25  extraction_type_class  59400 non-null  object \n",
      " 26  management             59400 non-null  object \n",
      " 27  management_group       59400 non-null  object \n",
      " 28  payment                59400 non-null  object \n",
      " 29  payment_type           59400 non-null  object \n",
      " 30  water_quality          59400 non-null  object \n",
      " 31  quality_group          59400 non-null  object \n",
      " 32  quantity               59400 non-null  object \n",
      " 33  quantity_group         59400 non-null  object \n",
      " 34  source                 59400 non-null  object \n",
      " 35  source_type            59400 non-null  object \n",
      " 36  source_class           59400 non-null  object \n",
      " 37  waterpoint_type        59400 non-null  object \n",
      " 38  waterpoint_type_group  59400 non-null  object \n",
      " 39  status_group           59400 non-null  object \n",
      "dtypes: float64(3), int64(6), object(31)\n",
      "memory usage: 21.1+ MB\n",
      "None\n"
     ]
    }
   ],
   "source": [
    "# previewing the shape and information of our dataframe \n",
    "\n",
    "def get_info_shape(data):\n",
    "\n",
    "    print(f'The shape of our dataset is: {data.shape}')\n",
    "    print(f'with {data.shape[0]} number of rows')\n",
    "    print(f'and {data.shape[1]} columns')\n",
    "    print('********************************************************')\n",
    "    print('********************************************************')\n",
    "    print(data.info())\n",
    "\n",
    "    \n",
    "get_info_shape(df)   "
   ]
  },
  {
   "cell_type": "code",
   "execution_count": 166,
   "metadata": {},
   "outputs": [
    {
     "data": {
      "text/html": [
       "<div>\n",
       "<style scoped>\n",
       "    .dataframe tbody tr th:only-of-type {\n",
       "        vertical-align: middle;\n",
       "    }\n",
       "\n",
       "    .dataframe tbody tr th {\n",
       "        vertical-align: top;\n",
       "    }\n",
       "\n",
       "    .dataframe thead th {\n",
       "        text-align: right;\n",
       "    }\n",
       "</style>\n",
       "<table border=\"1\" class=\"dataframe\">\n",
       "  <thead>\n",
       "    <tr style=\"text-align: right;\">\n",
       "      <th></th>\n",
       "      <th>amount_tsh</th>\n",
       "      <th>gps_height</th>\n",
       "      <th>longitude</th>\n",
       "      <th>latitude</th>\n",
       "      <th>num_private</th>\n",
       "      <th>region_code</th>\n",
       "      <th>district_code</th>\n",
       "      <th>population</th>\n",
       "      <th>construction_year</th>\n",
       "    </tr>\n",
       "  </thead>\n",
       "  <tbody>\n",
       "    <tr>\n",
       "      <th>count</th>\n",
       "      <td>59400.000000</td>\n",
       "      <td>59400.000000</td>\n",
       "      <td>59400.000000</td>\n",
       "      <td>5.940000e+04</td>\n",
       "      <td>59400.000000</td>\n",
       "      <td>59400.000000</td>\n",
       "      <td>59400.000000</td>\n",
       "      <td>59400.000000</td>\n",
       "      <td>59400.000000</td>\n",
       "    </tr>\n",
       "    <tr>\n",
       "      <th>mean</th>\n",
       "      <td>317.650385</td>\n",
       "      <td>668.297239</td>\n",
       "      <td>34.077427</td>\n",
       "      <td>-5.706033e+00</td>\n",
       "      <td>0.474141</td>\n",
       "      <td>15.297003</td>\n",
       "      <td>5.629747</td>\n",
       "      <td>179.909983</td>\n",
       "      <td>1300.652475</td>\n",
       "    </tr>\n",
       "    <tr>\n",
       "      <th>std</th>\n",
       "      <td>2997.574558</td>\n",
       "      <td>693.116350</td>\n",
       "      <td>6.567432</td>\n",
       "      <td>2.946019e+00</td>\n",
       "      <td>12.236230</td>\n",
       "      <td>17.587406</td>\n",
       "      <td>9.633649</td>\n",
       "      <td>471.482176</td>\n",
       "      <td>951.620547</td>\n",
       "    </tr>\n",
       "    <tr>\n",
       "      <th>min</th>\n",
       "      <td>0.000000</td>\n",
       "      <td>-90.000000</td>\n",
       "      <td>0.000000</td>\n",
       "      <td>-1.164944e+01</td>\n",
       "      <td>0.000000</td>\n",
       "      <td>1.000000</td>\n",
       "      <td>0.000000</td>\n",
       "      <td>0.000000</td>\n",
       "      <td>0.000000</td>\n",
       "    </tr>\n",
       "    <tr>\n",
       "      <th>25%</th>\n",
       "      <td>0.000000</td>\n",
       "      <td>0.000000</td>\n",
       "      <td>33.090347</td>\n",
       "      <td>-8.540621e+00</td>\n",
       "      <td>0.000000</td>\n",
       "      <td>5.000000</td>\n",
       "      <td>2.000000</td>\n",
       "      <td>0.000000</td>\n",
       "      <td>0.000000</td>\n",
       "    </tr>\n",
       "    <tr>\n",
       "      <th>50%</th>\n",
       "      <td>0.000000</td>\n",
       "      <td>369.000000</td>\n",
       "      <td>34.908743</td>\n",
       "      <td>-5.021597e+00</td>\n",
       "      <td>0.000000</td>\n",
       "      <td>12.000000</td>\n",
       "      <td>3.000000</td>\n",
       "      <td>25.000000</td>\n",
       "      <td>1986.000000</td>\n",
       "    </tr>\n",
       "    <tr>\n",
       "      <th>75%</th>\n",
       "      <td>20.000000</td>\n",
       "      <td>1319.250000</td>\n",
       "      <td>37.178387</td>\n",
       "      <td>-3.326156e+00</td>\n",
       "      <td>0.000000</td>\n",
       "      <td>17.000000</td>\n",
       "      <td>5.000000</td>\n",
       "      <td>215.000000</td>\n",
       "      <td>2004.000000</td>\n",
       "    </tr>\n",
       "    <tr>\n",
       "      <th>max</th>\n",
       "      <td>350000.000000</td>\n",
       "      <td>2770.000000</td>\n",
       "      <td>40.345193</td>\n",
       "      <td>-2.000000e-08</td>\n",
       "      <td>1776.000000</td>\n",
       "      <td>99.000000</td>\n",
       "      <td>80.000000</td>\n",
       "      <td>30500.000000</td>\n",
       "      <td>2013.000000</td>\n",
       "    </tr>\n",
       "  </tbody>\n",
       "</table>\n",
       "</div>"
      ],
      "text/plain": [
       "          amount_tsh    gps_height     longitude      latitude   num_private  \\\n",
       "count   59400.000000  59400.000000  59400.000000  5.940000e+04  59400.000000   \n",
       "mean      317.650385    668.297239     34.077427 -5.706033e+00      0.474141   \n",
       "std      2997.574558    693.116350      6.567432  2.946019e+00     12.236230   \n",
       "min         0.000000    -90.000000      0.000000 -1.164944e+01      0.000000   \n",
       "25%         0.000000      0.000000     33.090347 -8.540621e+00      0.000000   \n",
       "50%         0.000000    369.000000     34.908743 -5.021597e+00      0.000000   \n",
       "75%        20.000000   1319.250000     37.178387 -3.326156e+00      0.000000   \n",
       "max    350000.000000   2770.000000     40.345193 -2.000000e-08   1776.000000   \n",
       "\n",
       "        region_code  district_code    population  construction_year  \n",
       "count  59400.000000   59400.000000  59400.000000       59400.000000  \n",
       "mean      15.297003       5.629747    179.909983        1300.652475  \n",
       "std       17.587406       9.633649    471.482176         951.620547  \n",
       "min        1.000000       0.000000      0.000000           0.000000  \n",
       "25%        5.000000       2.000000      0.000000           0.000000  \n",
       "50%       12.000000       3.000000     25.000000        1986.000000  \n",
       "75%       17.000000       5.000000    215.000000        2004.000000  \n",
       "max       99.000000      80.000000  30500.000000        2013.000000  "
      ]
     },
     "execution_count": 166,
     "metadata": {},
     "output_type": "execute_result"
    }
   ],
   "source": [
    "# statistical analysis of our dataset \n",
    "def statistical_analysis(data):\n",
    "    return data.describe()\n",
    "\n",
    "statistical_analysis(df)"
   ]
  },
  {
   "cell_type": "code",
   "execution_count": 167,
   "metadata": {},
   "outputs": [
    {
     "name": "stdout",
     "output_type": "stream",
     "text": [
      "Our dataset has 9 numeric columns\n",
      "and 31 categorical columns\n",
      "Numerical Columns:  Index(['amount_tsh', 'gps_height', 'longitude', 'latitude', 'num_private',\n",
      "       'region_code', 'district_code', 'population', 'construction_year'],\n",
      "      dtype='object')\n",
      "Categorical Coulumns:  Index(['date_recorded', 'funder', 'installer', 'wpt_name', 'basin',\n",
      "       'subvillage', 'region', 'lga', 'ward', 'public_meeting', 'recorded_by',\n",
      "       'scheme_management', 'scheme_name', 'permit', 'extraction_type',\n",
      "       'extraction_type_group', 'extraction_type_class', 'management',\n",
      "       'management_group', 'payment', 'payment_type', 'water_quality',\n",
      "       'quality_group', 'quantity', 'quantity_group', 'source', 'source_type',\n",
      "       'source_class', 'waterpoint_type', 'waterpoint_type_group',\n",
      "       'status_group'],\n",
      "      dtype='object')\n"
     ]
    }
   ],
   "source": [
    "# checking to see the data types in our dataset  \n",
    "\n",
    "def data_types(data):\n",
    "\n",
    "    print(\"Our dataset has\", len( data.select_dtypes(include='number').columns),\n",
    "                \"numeric columns\")\n",
    "    \n",
    "    print(\"and\", len(data.select_dtypes(include='object').columns),\n",
    "          \"categorical columns\")\n",
    "\n",
    "    print('Numerical Columns: ', data.select_dtypes(include='number').columns)\n",
    "    print('Categorical Coulumns: ', data.select_dtypes(include='object').columns)\n",
    "\n",
    "data_types(df) "
   ]
  },
  {
   "attachments": {},
   "cell_type": "markdown",
   "metadata": {},
   "source": [
    "From the analysis we have been doing, the number of rows we have favors our modelling. The longer your data the better. We have a total of 40 columns 9 of which have numerical data while 31 columns have categorical data "
   ]
  },
  {
   "attachments": {},
   "cell_type": "markdown",
   "metadata": {},
   "source": [
    "* Numerical Columns\n",
    "\n",
    ">> amount_tsh : Total static head(amount of water availabe to waterpoint)\n",
    "\n",
    ">> gps_height : Altitude of the well\n",
    "\n",
    ">> longitude : GPS coordinate\n",
    "\n",
    ">> latitude : GPS coordinate\n",
    "\n",
    ">> num_private : number of privately owned water points\n",
    "\n",
    ">> region_code : Geographic location(coded)\n",
    "\n",
    ">> district_code : Geographic location(coded)\n",
    "\n",
    ">> population : population around the well\n",
    "\n",
    ">> construction_year : Year the waterpoint was constructed\n",
    "\n",
    "* Categorical Columns \n",
    "\n",
    ">> data_recorded : data of observation\n",
    "\n",
    ">> installer : Organization that installed the well\n",
    "\n",
    ">> funder : Who funded the well\n",
    "\n",
    ">> wpt_name : Name of the waterpoint if there is one\n",
    "\n",
    ">> basin : Geographic water basin\n",
    "\n",
    ">> subvillage : Geographic location\n",
    "\n",
    ">> region : Geographic location\n",
    "\n",
    ">> lga : Local Government Area\n",
    "\n",
    ">> ward : Geographic Location\n",
    "\n",
    ">> public_meeting - True/False\n",
    "\n",
    ">> recorded_by : Group entering this row of data\n",
    "\n",
    ">> scheme_management : Who operates the waterpoint\n",
    "\n",
    ">> scheme_name : Who operates the waterpoint\n",
    "\n",
    ">> permit : If the waterpoint is permitted\n",
    "\n",
    ">> extraction_type : The kind of extraction the waterpoint uses\n",
    "\n",
    ">> extraction_type_group : The kind of extraction the waterpoint uses\n",
    "\n",
    ">> extraction_type_class : The kind of extraction the waterpoint uses\n",
    "\n",
    ">> management : How the waterpoint is managed\n",
    "\n",
    ">> management_group : How the waterpoint is managed\n",
    "\n",
    ">> payment : What the water costs\n",
    "\n",
    ">> payment_type : What the water costs\n",
    "\n",
    ">> water_quality : The quality of the water\n",
    "\n",
    ">> quality_group : The quality of the water\n",
    "\n",
    ">> quantity : The quantity of water\n",
    "\n",
    ">> quantity_group : The quantity of water\n",
    "\n",
    ">> source : The source of the water\n",
    "\n",
    ">> source_type : The source of the water\n",
    "\n",
    ">> source_class : The source of the water\n",
    "\n",
    ">> waterpoint_type : The kind of waterpoint\n",
    "\n",
    ">> waterpoint_type_group : The kind of waterpoint\n",
    "\n",
    ">> status_group : The condition of the wells (target variable)\n"
   ]
  },
  {
   "attachments": {},
   "cell_type": "markdown",
   "metadata": {},
   "source": [
    "## Data Cleaning"
   ]
  },
  {
   "attachments": {},
   "cell_type": "markdown",
   "metadata": {},
   "source": [
    "### Duplicates "
   ]
  },
  {
   "cell_type": "code",
   "execution_count": 168,
   "metadata": {},
   "outputs": [
    {
     "name": "stdout",
     "output_type": "stream",
     "text": [
      "Duplicated rows constitute of 0.06 % of our dataset\n"
     ]
    }
   ],
   "source": [
    "# function to check for duplicates\n",
    "\n",
    "duplicates = []\n",
    "\n",
    "def check_duplicates(data):\n",
    "    for i in data.duplicated():\n",
    "        duplicates.append(i)\n",
    "    duplicates_set = set(duplicates)\n",
    "    if(len(duplicates_set) == 1):\n",
    "        print('Our Dataset has no Duplicates')\n",
    "\n",
    "    else:\n",
    "        duplicates_percentage = np.round(((sum(duplicates)/len(data)) * 100 ), 2)\n",
    "        print(f'Duplicated rows constitute of {duplicates_percentage} % of our dataset')\n",
    "        \n",
    "\n",
    "check_duplicates(df)"
   ]
  },
  {
   "cell_type": "code",
   "execution_count": 169,
   "metadata": {},
   "outputs": [],
   "source": [
    "# dropping duplicated values \n",
    "\n",
    "def drop_duplicates(data):\n",
    "    data = data.drop_duplicates(inplace = True)\n",
    "    return data\n",
    "\n",
    "drop_duplicates(df)"
   ]
  },
  {
   "cell_type": "code",
   "execution_count": 170,
   "metadata": {},
   "outputs": [
    {
     "data": {
      "text/plain": [
       "(59364, 40)"
      ]
     },
     "execution_count": 170,
     "metadata": {},
     "output_type": "execute_result"
    }
   ],
   "source": [
    "\"\"\" Simple function to just check the shape of our DataFrame\"\"\"\n",
    "\n",
    "def shape(data):\n",
    "    data_shape = data.shape\n",
    "    return data_shape\n",
    "\n",
    "shape(df)"
   ]
  },
  {
   "attachments": {},
   "cell_type": "markdown",
   "metadata": {},
   "source": [
    "### Outliers "
   ]
  },
  {
   "cell_type": "code",
   "execution_count": 171,
   "metadata": {},
   "outputs": [
    {
     "data": {
      "image/png": "[encoded data removed]",
      "text/plain": [
       "<Figure size 1440x720 with 8 Axes>"
      ]
     },
     "metadata": {
      "needs_background": "light"
     },
     "output_type": "display_data"
    }
   ],
   "source": [
    "# visualizing outliers in our numerical data\n",
    " \n",
    "def plot_boxplots(data, cols):\n",
    "    fig, axes = plt.subplots(2, 4, figsize=(20,10))\n",
    "    axes = axes.ravel()\n",
    "    sns.set(font_scale=2.0)\n",
    "\n",
    "    colors = [\"#9b59b6\", \"#3498db\", \"#2ecc71\", \"#006a4e\", 'purple', 'pink', 'brown', 'gray']\n",
    "\n",
    "    for i, col in enumerate(cols[:8]):\n",
    "\n",
    "        # convert the x-axis variable to a numeric data type\n",
    "        \n",
    "        data[col] = data[col].astype(float)\n",
    "        sns.boxplot(x=data[col], ax=axes[i], color=colors[i])\n",
    "        \n",
    "        axes[i].set_title(col)\n",
    "    plt.tight_layout()\n",
    "\n",
    "# specify the columns to plot\n",
    "\n",
    "cols = df.select_dtypes(include='number').columns\n",
    "\n",
    "# call the plot_boxplots function\n",
    "\n",
    "plot_boxplots(df, cols)"
   ]
  },
  {
   "attachments": {},
   "cell_type": "markdown",
   "metadata": {},
   "source": [
    "As per our visualization we see that we have outliers present in the amount_tsh column, num_private column, region and district code column and the population. Amount Total Static Head (amount_tsh), static measures the total vertical distance that a pump raises water. Total Static Head refers to the vertical height of a stationary column of liquid produced by a pump, measured from the suction level. In simpler terms we can also say its the pressure at a specific point in the system \n"
   ]
  },
  {
   "attachments": {},
   "cell_type": "markdown",
   "metadata": {},
   "source": [
    "![Alt text](total%20static%20head.jpg)"
   ]
  },
  {
   "attachments": {},
   "cell_type": "markdown",
   "metadata": {},
   "source": [
    "The oultiers on the amount_tsh are valid . There are a true reflection of the pressure a water pump can generate. It is possibe to even have a Total Static Head of 350000.0 which is the maximum value on the column. Therefore we will not be removing any outliers from this column.\n",
    "\n",
    "The population column shares in the same aspect as the amount_tsh column, its possible to have a population of 30,000 individuals in a region. Therefore we will not be removing any outliers\n",
    "\n",
    "We will not delve much into the region code and the division code, these are international standard denomination for country subdivisions that have already been established \n",
    "\n",
    "For the num_private column we will further explore our data to determine whether the outliers are valid."
   ]
  },
  {
   "attachments": {},
   "cell_type": "markdown",
   "metadata": {},
   "source": [
    "## Missing Values "
   ]
  },
  {
   "cell_type": "code",
   "execution_count": 172,
   "metadata": {},
   "outputs": [
    {
     "data": {
      "text/html": [
       "<div>\n",
       "<style scoped>\n",
       "    .dataframe tbody tr th:only-of-type {\n",
       "        vertical-align: middle;\n",
       "    }\n",
       "\n",
       "    .dataframe tbody tr th {\n",
       "        vertical-align: top;\n",
       "    }\n",
       "\n",
       "    .dataframe thead th {\n",
       "        text-align: right;\n",
       "    }\n",
       "</style>\n",
       "<table border=\"1\" class=\"dataframe\">\n",
       "  <thead>\n",
       "    <tr style=\"text-align: right;\">\n",
       "      <th></th>\n",
       "      <th>Missing Values</th>\n",
       "      <th>Percentage %</th>\n",
       "    </tr>\n",
       "  </thead>\n",
       "  <tbody>\n",
       "    <tr>\n",
       "      <th>scheme_name</th>\n",
       "      <td>28139</td>\n",
       "      <td>0.474008</td>\n",
       "    </tr>\n",
       "    <tr>\n",
       "      <th>scheme_management</th>\n",
       "      <td>3877</td>\n",
       "      <td>0.065309</td>\n",
       "    </tr>\n",
       "    <tr>\n",
       "      <th>installer</th>\n",
       "      <td>3655</td>\n",
       "      <td>0.061569</td>\n",
       "    </tr>\n",
       "    <tr>\n",
       "      <th>funder</th>\n",
       "      <td>3635</td>\n",
       "      <td>0.061232</td>\n",
       "    </tr>\n",
       "    <tr>\n",
       "      <th>public_meeting</th>\n",
       "      <td>3314</td>\n",
       "      <td>0.055825</td>\n",
       "    </tr>\n",
       "    <tr>\n",
       "      <th>permit</th>\n",
       "      <td>3056</td>\n",
       "      <td>0.051479</td>\n",
       "    </tr>\n",
       "    <tr>\n",
       "      <th>subvillage</th>\n",
       "      <td>371</td>\n",
       "      <td>0.006250</td>\n",
       "    </tr>\n",
       "  </tbody>\n",
       "</table>\n",
       "</div>"
      ],
      "text/plain": [
       "                   Missing Values  Percentage %\n",
       "scheme_name                 28139      0.474008\n",
       "scheme_management            3877      0.065309\n",
       "installer                    3655      0.061569\n",
       "funder                       3635      0.061232\n",
       "public_meeting               3314      0.055825\n",
       "permit                       3056      0.051479\n",
       "subvillage                    371      0.006250"
      ]
     },
     "execution_count": 172,
     "metadata": {},
     "output_type": "execute_result"
    }
   ],
   "source": [
    "def missing_values(data):\n",
    "    missing_values = data.isnull().sum().sort_values(ascending=False)\n",
    "    missing_val_percent = ((data.isnull().sum()/len(data)).sort_values(ascending=False))\n",
    "    \"\"\" creating a dataframe containing missing values and their percentages \"\"\"\n",
    "    missing_df = pd.DataFrame({'Missing Values': missing_values, 'Percentage %': missing_val_percent})\n",
    "    \n",
    "    return missing_df[missing_df['Percentage %'] > 0]\n",
    "\n",
    "missing_values(df)\n"
   ]
  },
  {
   "attachments": {},
   "cell_type": "markdown",
   "metadata": {},
   "source": [
    "We will only be focusing on the missing values in columns scheme_name, scheme_management, installer, funder and public meeting. Lets' start "
   ]
  },
  {
   "attachments": {},
   "cell_type": "markdown",
   "metadata": {},
   "source": [
    "### Scheme Name and Scheme Management \n",
    "The main objective of our project is to be able to indetify patterns in our datasets that will enable us predict faulty water pumps. These two features do not contribute towards that . They only information they give us is what to call the scheme and who manages it, this is not enugh to identify whether we have a faulty water pumps. For this reason, we will go ahead and drop this columns. In addition to that scheme name contains about 47 percentage of missing values , which is almost half our dataset. Its only correct we drop the column"
   ]
  },
  {
   "cell_type": "code",
   "execution_count": 173,
   "metadata": {},
   "outputs": [],
   "source": [
    "# dropping the columns \n",
    "\n",
    "def dropping_columns(columns):\n",
    "    drop_column = df.drop(columns=columns, inplace = True)\n",
    "    return drop_column\n",
    "\n",
    "columns_to_drop = df[['scheme_name', 'scheme_management']]\n",
    "\n",
    "dropping_columns(columns_to_drop)"
   ]
  },
  {
   "cell_type": "code",
   "execution_count": 174,
   "metadata": {},
   "outputs": [
    {
     "data": {
      "text/plain": [
       "(59364, 38)"
      ]
     },
     "execution_count": 174,
     "metadata": {},
     "output_type": "execute_result"
    }
   ],
   "source": [
    "# check to see the shape of our dataset after dropping the columns\n",
    "\n",
    "shape(df)"
   ]
  },
  {
   "attachments": {},
   "cell_type": "markdown",
   "metadata": {},
   "source": [
    "### Installer\n",
    "\n",
    "The percentage of missing data in this column is quite low. After analysing and successfully creating predictions from our dataset. we are to generate reccomendations to our stakeholders. Such reccomendation may be advising our stakeholders on the best contractor to do installation of the water pumps. Installers can greatly contribute to the durability of water pumps. Factors such as seating, damaged seal, or misaligned gasket can mean the water pump is not operating efficienty. Therefore reccomending a list of installers is commendable here. In this case we will only drop the rows with the missing values"
   ]
  },
  {
   "attachments": {},
   "cell_type": "markdown",
   "metadata": {},
   "source": [
    "### Funder \n",
    "This refers to the organisation that donated the pumps. We want to advise our stakeholder on who it should collaborate with to raise maximum funds towards the initiative therfore we will just drop the rows with the missing values"
   ]
  },
  {
   "attachments": {},
   "cell_type": "markdown",
   "metadata": {},
   "source": [
    "### Public Meeting\n",
    "\n",
    "Public meetings are a way of the community to come together and raise issues of concern. We will also just missing values of the columns\n"
   ]
  },
  {
   "cell_type": "code",
   "execution_count": 175,
   "metadata": {},
   "outputs": [],
   "source": [
    "# removing rows with missing values from columns installer, funder and public_meeting\n",
    "\n",
    "def drop_rows(data, columns):\n",
    "    new_data = data.dropna(subset=columns, inplace=True)\n",
    "    return new_data\n",
    "\n",
    "col = ['installer', 'funder', 'public_meeting']\n",
    "drop_rows(df, col)"
   ]
  },
  {
   "cell_type": "code",
   "execution_count": 176,
   "metadata": {},
   "outputs": [
    {
     "data": {
      "text/plain": [
       "(52560, 38)"
      ]
     },
     "execution_count": 176,
     "metadata": {},
     "output_type": "execute_result"
    }
   ],
   "source": [
    "# previewing new shape \n",
    "shape(df)"
   ]
  },
  {
   "attachments": {},
   "cell_type": "markdown",
   "metadata": {},
   "source": [
    "### Irrelevant Columns\n",
    "\n",
    "The following columns do not seem relevant to our business problem and therefore we will go ahead and drop them\n",
    "1. Permit\n",
    "2. Subvillage\n",
    "3. wpt_name\n",
    "4. region_code\n",
    "5. district_code\n",
    "6. lga\n",
    "7. ward\n",
    "8. recorded_by\n",
    "9. date_recorded \n",
    "Note : we will be using latitudes and longitudes to map our regions therefore we do not need additional columns with geographical location information\n",
    "\n",
    "Some columns are good for exploratory data analysis just to get a feel of how our data is , we will not be dropping those however we will not use them during modelling "
   ]
  },
  {
   "cell_type": "code",
   "execution_count": 177,
   "metadata": {},
   "outputs": [
    {
     "data": {
      "text/plain": [
       "Index(['amount_tsh', 'date_recorded', 'funder', 'gps_height', 'installer',\n",
       "       'longitude', 'latitude', 'wpt_name', 'num_private', 'basin',\n",
       "       'subvillage', 'region', 'region_code', 'district_code', 'lga', 'ward',\n",
       "       'population', 'public_meeting', 'recorded_by', 'permit',\n",
       "       'construction_year', 'extraction_type', 'extraction_type_group',\n",
       "       'extraction_type_class', 'management', 'management_group', 'payment',\n",
       "       'payment_type', 'water_quality', 'quality_group', 'quantity',\n",
       "       'quantity_group', 'source', 'source_type', 'source_class',\n",
       "       'waterpoint_type', 'waterpoint_type_group', 'status_group'],\n",
       "      dtype='object')"
      ]
     },
     "execution_count": 177,
     "metadata": {},
     "output_type": "execute_result"
    }
   ],
   "source": [
    "df.columns"
   ]
  },
  {
   "cell_type": "code",
   "execution_count": 178,
   "metadata": {},
   "outputs": [],
   "source": [
    "irrelevant_columns = df[['permit', 'subvillage', 'wpt_name', 'region_code', 'district_code', 'lga', 'ward', 'recorded_by', 'date_recorded']]\n",
    "\n",
    "# calling the drop column function and passing the irrelevant columns\n",
    "\n",
    "dropping_columns(irrelevant_columns)"
   ]
  },
  {
   "cell_type": "code",
   "execution_count": 179,
   "metadata": {},
   "outputs": [
    {
     "data": {
      "text/plain": [
       "(52560, 29)"
      ]
     },
     "execution_count": 179,
     "metadata": {},
     "output_type": "execute_result"
    }
   ],
   "source": [
    "# preview the shape of our dataset\n",
    "shape(df)"
   ]
  },
  {
   "attachments": {},
   "cell_type": "markdown",
   "metadata": {},
   "source": [
    "Now that we have cleaned our dataset, Lets take a look at our columns to see if we have columns with the similar information, check for misspellings on our dataset, check for whitespaces, check to rename. Let's start with columns that appear to have the same information"
   ]
  },
  {
   "cell_type": "code",
   "execution_count": 180,
   "metadata": {},
   "outputs": [
    {
     "data": {
      "text/plain": [
       "Index(['amount_tsh', 'funder', 'gps_height', 'installer', 'longitude',\n",
       "       'latitude', 'num_private', 'basin', 'region', 'population',\n",
       "       'public_meeting', 'construction_year', 'extraction_type',\n",
       "       'extraction_type_group', 'extraction_type_class', 'management',\n",
       "       'management_group', 'payment', 'payment_type', 'water_quality',\n",
       "       'quality_group', 'quantity', 'quantity_group', 'source', 'source_type',\n",
       "       'source_class', 'waterpoint_type', 'waterpoint_type_group',\n",
       "       'status_group'],\n",
       "      dtype='object')"
      ]
     },
     "execution_count": 180,
     "metadata": {},
     "output_type": "execute_result"
    }
   ],
   "source": [
    "df.columns"
   ]
  },
  {
   "attachments": {},
   "cell_type": "markdown",
   "metadata": {},
   "source": [
    "### Payment and Payment Type"
   ]
  },
  {
   "cell_type": "code",
   "execution_count": 181,
   "metadata": {},
   "outputs": [
    {
     "name": "stdout",
     "output_type": "stream",
     "text": [
      "never pay                22712\n",
      "pay per bucket            8311\n",
      "pay monthly               8009\n",
      "unknown                   5205\n",
      "pay when scheme fails     3850\n",
      "pay annually              3513\n",
      "other                      960\n",
      "Name: payment, dtype: int64\n",
      "**************************************\n",
      "**************************************\n",
      "never pay     22712\n",
      "per bucket     8311\n",
      "monthly        8009\n",
      "unknown        5205\n",
      "on failure     3850\n",
      "annually       3513\n",
      "other           960\n",
      "Name: payment_type, dtype: int64\n"
     ]
    }
   ],
   "source": [
    "# tallying up unique responses in our dataset \n",
    "\n",
    "def tally(column):\n",
    "\n",
    "    groupings = column.value_counts()\n",
    "\n",
    "    return groupings\n",
    "\n",
    "print(tally(df.payment))\n",
    "print('**************************************')\n",
    "print('**************************************')\n",
    "print(tally(df.payment_type))"
   ]
  },
  {
   "attachments": {},
   "cell_type": "markdown",
   "metadata": {},
   "source": [
    "The totals for payment and payment type are the same, to mean these two columns represent the same information. Therefore we shall drop one column"
   ]
  },
  {
   "cell_type": "code",
   "execution_count": 182,
   "metadata": {},
   "outputs": [],
   "source": [
    "# dropping payment column\n",
    "\n",
    "payment_col = df[['payment']]\n",
    "\n",
    "dropping_columns(payment_col)\n"
   ]
  },
  {
   "cell_type": "code",
   "execution_count": 183,
   "metadata": {},
   "outputs": [
    {
     "data": {
      "text/plain": [
       "(52560, 28)"
      ]
     },
     "execution_count": 183,
     "metadata": {},
     "output_type": "execute_result"
    }
   ],
   "source": [
    "# preview shape of dataframe\n",
    "\n",
    "shape(df)"
   ]
  },
  {
   "attachments": {},
   "cell_type": "markdown",
   "metadata": {},
   "source": [
    "### Water Quality and Quality Group\n"
   ]
  },
  {
   "cell_type": "code",
   "execution_count": 184,
   "metadata": {},
   "outputs": [
    {
     "name": "stdout",
     "output_type": "stream",
     "text": [
      "soft                  45598\n",
      "salty                  4429\n",
      "unknown                1009\n",
      "milky                   717\n",
      "coloured                379\n",
      "salty abandoned         239\n",
      "fluoride                173\n",
      "fluoride abandoned       16\n",
      "Name: water_quality, dtype: int64\n",
      "**************************************\n",
      "**************************************\n",
      "good        45598\n",
      "salty        4668\n",
      "unknown      1009\n",
      "milky         717\n",
      "colored       379\n",
      "fluoride      189\n",
      "Name: quality_group, dtype: int64\n"
     ]
    }
   ],
   "source": [
    "print(tally(df.water_quality))\n",
    "print('**************************************')\n",
    "print('**************************************')\n",
    "print(tally(df.quality_group))"
   ]
  },
  {
   "attachments": {},
   "cell_type": "markdown",
   "metadata": {},
   "source": [
    "Both these columns contain information about water quality.Notice that quality group combined both flouride and flouride abandoned to form just flouride, it did the same to salty and salty abandoned to form just salty. Water quality gives us a good subdivision of the water quality as opposed to quality group,therefore its only wise to keep the column and drop quality group \n"
   ]
  },
  {
   "cell_type": "code",
   "execution_count": 185,
   "metadata": {},
   "outputs": [],
   "source": [
    "# dropping quality_group\n",
    "quality_grp = df[['quality_group']]\n",
    "\n",
    "dropping_columns(quality_grp)"
   ]
  },
  {
   "cell_type": "code",
   "execution_count": 186,
   "metadata": {},
   "outputs": [
    {
     "data": {
      "text/plain": [
       "(52560, 27)"
      ]
     },
     "execution_count": 186,
     "metadata": {},
     "output_type": "execute_result"
    }
   ],
   "source": [
    "# preview shape\n",
    "\n",
    "shape(df)"
   ]
  },
  {
   "attachments": {},
   "cell_type": "markdown",
   "metadata": {},
   "source": [
    "### Quantity and Quantity Group"
   ]
  },
  {
   "cell_type": "code",
   "execution_count": 187,
   "metadata": {},
   "outputs": [
    {
     "name": "stdout",
     "output_type": "stream",
     "text": [
      "enough          30156\n",
      "insufficient    13413\n",
      "dry              5367\n",
      "seasonal         3235\n",
      "unknown           389\n",
      "Name: quantity, dtype: int64\n",
      "**************************************\n",
      "**************************************\n",
      "enough          30156\n",
      "insufficient    13413\n",
      "dry              5367\n",
      "seasonal         3235\n",
      "unknown           389\n",
      "Name: quantity_group, dtype: int64\n"
     ]
    }
   ],
   "source": [
    "print(tally(df.quantity))\n",
    "print('**************************************')\n",
    "print('**************************************')\n",
    "print(tally(df.quantity_group))"
   ]
  },
  {
   "attachments": {},
   "cell_type": "markdown",
   "metadata": {},
   "source": [
    "Both the columns have the same information with the same totals.We then choose one"
   ]
  },
  {
   "cell_type": "code",
   "execution_count": 188,
   "metadata": {},
   "outputs": [],
   "source": [
    "quantity_grp = df[['quantity_group']]\n",
    "\n",
    "dropping_columns(quantity_grp)"
   ]
  },
  {
   "cell_type": "code",
   "execution_count": 189,
   "metadata": {},
   "outputs": [
    {
     "data": {
      "text/plain": [
       "(52560, 26)"
      ]
     },
     "execution_count": 189,
     "metadata": {},
     "output_type": "execute_result"
    }
   ],
   "source": [
    "# preview shape\n",
    "\n",
    "shape(df)"
   ]
  },
  {
   "attachments": {},
   "cell_type": "markdown",
   "metadata": {},
   "source": [
    "### Source and Source Type Source class"
   ]
  },
  {
   "cell_type": "code",
   "execution_count": 190,
   "metadata": {},
   "outputs": [
    {
     "name": "stdout",
     "output_type": "stream",
     "text": [
      "spring                  15236\n",
      "shallow well            15037\n",
      "machine dbh              9506\n",
      "river                    8646\n",
      "rainwater harvesting     1894\n",
      "hand dtw                  784\n",
      "lake                      624\n",
      "dam                       603\n",
      "other                     195\n",
      "unknown                    35\n",
      "Name: source, dtype: int64\n",
      "**************************************\n",
      "**************************************\n",
      "spring                  15236\n",
      "shallow well            15037\n",
      "borehole                10290\n",
      "river/lake               9270\n",
      "rainwater harvesting     1894\n",
      "dam                       603\n",
      "other                     230\n",
      "Name: source_type, dtype: int64\n",
      "**************************************\n",
      "**************************************\n",
      "groundwater    40563\n",
      "surface        11767\n",
      "unknown          230\n",
      "Name: source_class, dtype: int64\n"
     ]
    }
   ],
   "source": [
    "print(tally(df.source))\n",
    "print('**************************************')\n",
    "print('**************************************')\n",
    "print(tally(df.source_type))\n",
    "print('**************************************')\n",
    "print('**************************************')\n",
    "print(tally(df.source_class))\n"
   ]
  },
  {
   "attachments": {},
   "cell_type": "markdown",
   "metadata": {},
   "source": [
    "The three columns all have information about water sources. The column source howver has one entry called machine dbh that is quite to decipher, the column source_type gives us an indepth breakdown of the water source and its quite easy to understand each source.The column source class just gives us as general overview of water source. We will go ahead and make use of the column source_type since its more clear than the other two \n"
   ]
  },
  {
   "cell_type": "code",
   "execution_count": 191,
   "metadata": {},
   "outputs": [],
   "source": [
    "# dropping columns source and source class\n",
    "water_source_col = df[['source', 'source_class']]\n",
    "\n",
    "dropping_columns(water_source_col)"
   ]
  },
  {
   "cell_type": "code",
   "execution_count": 192,
   "metadata": {},
   "outputs": [
    {
     "data": {
      "text/plain": [
       "(52560, 24)"
      ]
     },
     "execution_count": 192,
     "metadata": {},
     "output_type": "execute_result"
    }
   ],
   "source": [
    "# preview shape\n",
    "shape(df)"
   ]
  },
  {
   "attachments": {},
   "cell_type": "markdown",
   "metadata": {},
   "source": [
    "### Water point and Water point type group "
   ]
  },
  {
   "cell_type": "code",
   "execution_count": 193,
   "metadata": {},
   "outputs": [
    {
     "name": "stdout",
     "output_type": "stream",
     "text": [
      "communal standpipe             24544\n",
      "hand pump                      15777\n",
      "communal standpipe multiple     5778\n",
      "other                           5617\n",
      "improved spring                  730\n",
      "cattle trough                    107\n",
      "dam                                7\n",
      "Name: waterpoint_type, dtype: int64\n",
      "**************************************\n",
      "**************************************\n",
      "communal standpipe    30322\n",
      "hand pump             15777\n",
      "other                  5617\n",
      "improved spring         730\n",
      "cattle trough           107\n",
      "dam                       7\n",
      "Name: waterpoint_type_group, dtype: int64\n"
     ]
    }
   ],
   "source": [
    "print(tally(df.waterpoint_type))\n",
    "print('**************************************')\n",
    "print('**************************************')\n",
    "print(tally(df.waterpoint_type_group))\n"
   ]
  },
  {
   "attachments": {},
   "cell_type": "markdown",
   "metadata": {},
   "source": [
    "There is no much difference between the two columns only that column waterpoint_type has split the type of communal standpipe while water_point_type_group has combined them both .\n",
    "We will go ahead and pick waterpoint_type"
   ]
  },
  {
   "cell_type": "code",
   "execution_count": 194,
   "metadata": {},
   "outputs": [],
   "source": [
    "waterpoint_type_col = df[['waterpoint_type_group']]\n",
    "\n",
    "dropping_columns(waterpoint_type_col)"
   ]
  },
  {
   "cell_type": "code",
   "execution_count": 195,
   "metadata": {},
   "outputs": [
    {
     "data": {
      "text/plain": [
       "(52560, 23)"
      ]
     },
     "execution_count": 195,
     "metadata": {},
     "output_type": "execute_result"
    }
   ],
   "source": [
    "# preview shape\n",
    "shape(df)"
   ]
  },
  {
   "attachments": {},
   "cell_type": "markdown",
   "metadata": {},
   "source": [
    "### Management and Management Type"
   ]
  },
  {
   "cell_type": "code",
   "execution_count": 206,
   "metadata": {},
   "outputs": [
    {
     "name": "stdout",
     "output_type": "stream",
     "text": [
      "vwc                 36424\n",
      "wug                  5516\n",
      "water board          2674\n",
      "wua                  2295\n",
      "private operator     1655\n",
      "parastatal           1371\n",
      "water authority       810\n",
      "other                 682\n",
      "company               662\n",
      "unknown               295\n",
      "other - school         99\n",
      "trust                  77\n",
      "Name: management, dtype: int64\n",
      "**************************************\n",
      "**************************************\n",
      "user-group    46909\n",
      "commercial     3204\n",
      "parastatal     1371\n",
      "other           781\n",
      "unknown         295\n",
      "Name: management_group, dtype: int64\n"
     ]
    }
   ],
   "source": [
    "print(tally(df.management))\n",
    "print('**************************************')\n",
    "print('**************************************')\n",
    "print(tally(df.management_group))\n"
   ]
  },
  {
   "attachments": {},
   "cell_type": "markdown",
   "metadata": {},
   "source": [
    "We will go ahead and choose management column"
   ]
  },
  {
   "cell_type": "code",
   "execution_count": 207,
   "metadata": {},
   "outputs": [],
   "source": [
    "# dropping management_group\n",
    "management_group_col = df[['management_group']]\n",
    "\n",
    "dropping_columns(management_group_col)"
   ]
  },
  {
   "attachments": {},
   "cell_type": "markdown",
   "metadata": {},
   "source": [
    "### Extraction Type , Extraction Type Group and Extraction Type Class"
   ]
  },
  {
   "cell_type": "code",
   "execution_count": 208,
   "metadata": {},
   "outputs": [
    {
     "name": "stdout",
     "output_type": "stream",
     "text": [
      "gravity                      23759\n",
      "nira/tanira                   7231\n",
      "other                         5597\n",
      "submersible                   3913\n",
      "swn 80                        3431\n",
      "mono                          2514\n",
      "india mark ii                 2257\n",
      "afridev                       1522\n",
      "ksb                           1334\n",
      "other - rope pump              344\n",
      "other - swn 81                 206\n",
      "windmill                       111\n",
      "cemo                            90\n",
      "india mark iii                  88\n",
      "other - play pump               84\n",
      "walimi                          46\n",
      "climax                          32\n",
      "other - mkulima/shinyanga        1\n",
      "Name: extraction_type, dtype: int64\n",
      "**************************************\n",
      "**************************************\n",
      "gravity         23759\n",
      "handpump        14866\n",
      "other            5597\n",
      "submersible      5247\n",
      "motorpump        2636\n",
      "rope pump         344\n",
      "wind-powered      111\n",
      "Name: extraction_type_class, dtype: int64\n",
      "**************************************\n",
      "**************************************\n",
      "gravity            23759\n",
      "nira/tanira         7231\n",
      "other               5597\n",
      "submersible         5247\n",
      "swn 80              3431\n",
      "mono                2514\n",
      "india mark ii       2257\n",
      "afridev             1522\n",
      "rope pump            344\n",
      "other handpump       337\n",
      "other motorpump      122\n",
      "wind-powered         111\n",
      "india mark iii        88\n",
      "Name: extraction_type_group, dtype: int64\n"
     ]
    }
   ],
   "source": [
    "print(tally(df.extraction_type))\n",
    "print('**************************************')\n",
    "print('**************************************')\n",
    "print(tally(df.extraction_type_class))\n",
    "print('**************************************')\n",
    "print('**************************************')\n",
    "print(tally(df.extraction_type_group))\n",
    "\n"
   ]
  },
  {
   "cell_type": "markdown",
   "metadata": {},
   "source": [
    "We will go ahead and remain with extraction type group column"
   ]
  },
  {
   "cell_type": "code",
   "execution_count": 211,
   "metadata": {},
   "outputs": [],
   "source": [
    "# dropping extraction type and extraction type column\n",
    "\n",
    "extraction_col = df[['extraction_type', 'extraction_type_class']]\n",
    "\n",
    "dropping_columns(extraction_col)"
   ]
  },
  {
   "attachments": {},
   "cell_type": "markdown",
   "metadata": {},
   "source": [
    "Now that we have combined we have sorted columns that seem to have similar information lets explore other columns of our remaining dataset"
   ]
  },
  {
   "attachments": {},
   "cell_type": "markdown",
   "metadata": {},
   "source": [
    "Num Private"
   ]
  },
  {
   "cell_type": "code",
   "execution_count": 196,
   "metadata": {},
   "outputs": [
    {
     "name": "stdout",
     "output_type": "stream",
     "text": [
      "0.0       51836\n",
      "6.0          73\n",
      "1.0          68\n",
      "8.0          46\n",
      "5.0          44\n",
      "32.0         40\n",
      "45.0         36\n",
      "15.0         35\n",
      "39.0         30\n",
      "93.0         28\n",
      "3.0          26\n",
      "7.0          24\n",
      "65.0         22\n",
      "47.0         21\n",
      "102.0        20\n",
      "4.0          19\n",
      "2.0          18\n",
      "17.0         17\n",
      "80.0         15\n",
      "20.0         14\n",
      "25.0         12\n",
      "11.0         10\n",
      "34.0         10\n",
      "41.0         10\n",
      "16.0          8\n",
      "120.0         7\n",
      "150.0         6\n",
      "22.0          6\n",
      "50.0          5\n",
      "24.0          5\n",
      "12.0          5\n",
      "9.0           4\n",
      "38.0          4\n",
      "58.0          4\n",
      "14.0          3\n",
      "10.0          3\n",
      "27.0          2\n",
      "26.0          2\n",
      "672.0         1\n",
      "131.0         1\n",
      "450.0         1\n",
      "23.0          1\n",
      "213.0         1\n",
      "668.0         1\n",
      "87.0          1\n",
      "35.0          1\n",
      "42.0          1\n",
      "141.0         1\n",
      "755.0         1\n",
      "94.0          1\n",
      "180.0         1\n",
      "240.0         1\n",
      "1776.0        1\n",
      "300.0         1\n",
      "60.0          1\n",
      "280.0         1\n",
      "698.0         1\n",
      "55.0          1\n",
      "62.0          1\n",
      "1402.0        1\n",
      "Name: num_private, dtype: int64\n"
     ]
    }
   ],
   "source": [
    "print(tally(df.num_private))"
   ]
  },
  {
   "attachments": {},
   "cell_type": "markdown",
   "metadata": {},
   "source": [
    "There is no clear information about the column num_private entails and most of the the observations are zero , therefore we will go ahead and drop the column"
   ]
  },
  {
   "cell_type": "code",
   "execution_count": 197,
   "metadata": {},
   "outputs": [],
   "source": [
    "num_private_col = df[['num_private']]\n",
    "\n",
    "dropping_columns(num_private_col)\n"
   ]
  },
  {
   "attachments": {},
   "cell_type": "markdown",
   "metadata": {},
   "source": [
    "Funder"
   ]
  },
  {
   "cell_type": "code",
   "execution_count": 232,
   "metadata": {},
   "outputs": [],
   "source": [
    "df['funder'].fillna(value='Unknown',inplace=True)\n",
    "df['funder'].replace(to_replace = '0', value ='Unknown' , inplace=True)"
   ]
  },
  {
   "attachments": {},
   "cell_type": "markdown",
   "metadata": {},
   "source": [
    "Installer "
   ]
  },
  {
   "cell_type": "code",
   "execution_count": null,
   "metadata": {},
   "outputs": [],
   "source": [
    "df['installer'].replace(to_replace = ('District Water Department', 'District water depar','Distric Water Department'),\n",
    "                        value ='District water department' , inplace=True)\n",
    "\n",
    "df['installer'].replace(to_replace = ('FinW','Fini water','FINI WATER'), value ='Fini Water' , inplace=True)\n",
    "df['installer'].replace(to_replace = 'JAICA', value ='Jaica' , inplace=True)\n",
    "\n",
    "df['installer'].replace(to_replace = ('COUN', 'District COUNCIL', 'DISTRICT COUNCIL','District Counci', \n",
    "                                  'District Council','Council','Counc','District  Council','Distri'),\n",
    "                                 value ='District council' , inplace=True)\n",
    "\n",
    "df['installer'].replace(to_replace = ('RC CHURCH', 'RC Churc', 'RC','RC Ch','RC C', 'RC CH','RC church', \n",
    "                                   'RC CATHORIC',) , value ='RC Church' , inplace=True)\n",
    "\n",
    "df['installer'].replace(to_replace = ('Central Government','Tanzania Government',\n",
    "                                    'central government','Cental Government', 'Cebtral Government', \n",
    "                                  'Tanzanian Government','Tanzania government', 'Centra Government' ,\n",
    "                                    'CENTRAL GOVERNMENT', 'TANZANIAN GOVERNMENT','Central govt', 'Centr', \n",
    "                                    'Centra govt') , value ='Central government' , inplace=True)\n",
    "\n",
    "df['installer'].replace(to_replace = ('World vision', 'World Division','World Vision'),\n",
    "                                      value ='world vision' , inplace=True)\n",
    "\n",
    "df['installer'].replace(to_replace = ('Unisef','UNICEF'),value ='Unicef' , inplace=True)\n",
    "df['installer'].replace(to_replace = 'DANID', value ='DANIDA' , inplace=True)\n",
    "\n",
    "df['installer'].replace(to_replace = ('villigers', 'villager', 'Villagers', 'Villa', 'Village', 'Villi', \n",
    "                                    'Village Council','Village Counil', 'Villages', 'Vill', 'Village community', \n",
    "                                    'Villaers', 'Village Community', 'Villag','Villege Council', 'Village council',\n",
    "                                    'Village  Council','Villagerd', 'Villager', 'Village Technician',\n",
    "                                    'Village Office','Village community members'),\n",
    "                                     value ='villagers' , inplace=True)\n",
    "\n",
    "df['installer'].replace(to_replace =('Commu','Communit','commu','COMMU', 'COMMUNITY') ,\n",
    "                                      value ='Community' , inplace=True)\n",
    "df['installer'].replace(to_replace = ('GOVERNMENT', 'GOVER', 'GOVERNME', 'GOVERM','GOVERN','Gover','Gove',\n",
    "                                      'Governme','Governmen' ) ,value ='Government' , inplace=True)\n",
    "\n",
    "df['installer'].replace(to_replace = 'Hesawa' ,value ='HESAWA' , inplace=True)"
   ]
  },
  {
   "cell_type": "code",
   "execution_count": 233,
   "metadata": {},
   "outputs": [],
   "source": [
    "df['installer'].replace(to_replace = ('Colonial Government') , value ='Colonial government' , inplace=True)\n",
    "df['installer'].replace(to_replace = ('Government of Misri') , value ='Misri Government' , inplace=True)\n",
    "df['installer'].replace(to_replace = ('Italy government') , value ='Italian government' , inplace=True)\n",
    "df['installer'].replace(to_replace = ('British colonial government') , value ='British government' , inplace=True)\n",
    "df['installer'].replace(to_replace = ('Concern /government') , value ='Concern/Government' , inplace=True)\n",
    "df['installer'].replace(to_replace = ('Village Government') , value ='Village government' , inplace=True)\n",
    "df['installer'].replace(to_replace = ('Government and Community') , value ='Government /Community' , inplace=True)\n",
    "df['installer'].replace(to_replace = ('Cetral government /RC') , value ='RC church/Central Gover' , inplace=True)\n",
    "df['installer'].replace(to_replace = ('Government /TCRS','Government/TCRS') , value ='TCRS /Government' , inplace=True)\n",
    "df['installer'].replace(to_replace = ('ADRA /Government') , value ='ADRA/Government' , inplace=True)"
   ]
  },
  {
   "cell_type": "code",
   "execution_count": 234,
   "metadata": {},
   "outputs": [
    {
     "data": {
      "text/plain": [
       "(52560, 19)"
      ]
     },
     "execution_count": 234,
     "metadata": {},
     "output_type": "execute_result"
    }
   ],
   "source": [
    "shape(df)"
   ]
  },
  {
   "attachments": {},
   "cell_type": "markdown",
   "metadata": {},
   "source": [
    "We are done with cleaning our dataset now let's move to Explatory Data Analysis"
   ]
  },
  {
   "attachments": {},
   "cell_type": "markdown",
   "metadata": {},
   "source": [
    "## Explatory Data Analysis "
   ]
  },
  {
   "attachments": {},
   "cell_type": "markdown",
   "metadata": {},
   "source": [
    "# Class Distribution on World Map"
   ]
  },
  {
   "cell_type": "code",
   "execution_count": 239,
   "metadata": {},
   "outputs": [
    {
     "data": {
      "text/plain": [
       "Text(0.5, 1.0, 'Targets Distribution')"
      ]
     },
     "execution_count": 239,
     "metadata": {},
     "output_type": "execute_result"
    },
    {
     "data": {
      "image/png": "[encoded data removed]",
      "text/plain": [
       "<Figure size 432x288 with 1 Axes>"
      ]
     },
     "metadata": {},
     "output_type": "display_data"
    }
   ],
   "source": [
    "target_counts = df['status_group'].value_counts()\n",
    "ax = sns.barplot(y=target_counts.index, x=target_counts.values)\n",
    "ax.set_xlabel('Count')\n",
    "ax.set_ylabel('Targets')\n",
    "ax.set_title('Targets Distribution')"
   ]
  },
  {
   "cell_type": "code",
   "execution_count": null,
   "metadata": {},
   "outputs": [],
   "source": []
  }
 ],
 "metadata": {
  "kernelspec": {
   "display_name": "Python (learn-env)",
   "language": "python",
   "name": "learn-env"
  },
  "language_info": {
   "codemirror_mode": {
    "name": "ipython",
    "version": 3
   },
   "file_extension": ".py",
   "mimetype": "text/x-python",
   "name": "python",
   "nbconvert_exporter": "python",
   "pygments_lexer": "ipython3",
   "version": "3.8.5"
  },
  "orig_nbformat": 4
 },
 "nbformat": 4,
 "nbformat_minor": 2
}
