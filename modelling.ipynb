{
 "cells": [
  {
   "attachments": {},
   "cell_type": "markdown",
   "metadata": {},
   "source": [
    "## Modelling "
   ]
  },
  {
   "attachments": {},
   "cell_type": "markdown",
   "metadata": {},
   "source": [
    ">> Our main objective is to be able to make predictions on whether we have water pumps that are functional, non-functional or functional but needs repair based on the features we have on our dataset This task is to be achieved by evalauting different algorithmns and checking to see whether they meet our evaluation metrics.\n",
    "We will be evaluation the following algorithmns :\n",
    "* K-Nearest Neighbors\n",
    "* Decision Trees\n",
    "* Random Forest\n",
    "* Adaptive Boosting(Adaboost)"
   ]
  },
  {
   "attachments": {},
   "cell_type": "markdown",
   "metadata": {},
   "source": [
    "Load Librarires"
   ]
  }
 ],
 "metadata": {
  "kernelspec": {
   "display_name": "Python (learn-env)",
   "language": "python",
   "name": "learn-env"
  },
  "language_info": {
   "codemirror_mode": {
    "name": "ipython",
    "version": 3
   },
   "file_extension": ".py",
   "mimetype": "text/x-python",
   "name": "python",
   "nbconvert_exporter": "python",
   "pygments_lexer": "ipython3",
   "version": "3.8.5"
  },
  "orig_nbformat": 4
 },
 "nbformat": 4,
 "nbformat_minor": 2
}
