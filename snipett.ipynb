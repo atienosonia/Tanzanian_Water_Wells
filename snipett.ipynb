{
 "cells": [
  {
   "cell_type": "code",
   "execution_count": null,
   "metadata": {},
   "outputs": [],
   "source": [
    "def plot_distribution(df, col, title, bins='auto'):\n",
    "    \n",
    "    fig, ax_hist = plt.subplots(figsize=(10, 6))\n",
    "\n",
    "    sns.histplot(data=df, x=col, ax=ax_hist, color='#037bfc', edgecolor='black')\n",
    "    plt.suptitle(title)\n",
    "    plt.tight_layout()\n",
    "    \n",
    "plot_distribution(df, 'gps_height', 'Altitude Column Distribution')"
   ]
  },
  {
   "attachments": {},
   "cell_type": "markdown",
   "metadata": {},
   "source": [
    "### Gradient Boosting \n",
    "\n",
    "Boosting Algorithms are also known as weak learners , they work by training a single weak learner, figure out which examples the weak learner got wrong, build another weak learner that focuses on the areas the first weak learner got wrong, continue this process untill a predetermined stopping condition is met, such as until a set number of weak learners have been created, or the the models performance plateaued. In this way, each new weak learner is specifically tuned to focus on the weak points of the previous weak learner(s). \n",
    "\n",
    "pipe = Pipeline([('gbc', GradientBoostingClassifier())])\n",
    "\n",
    "# create a grid parameter\n",
    "\n",
    "param_grid = {'gbc__learning_rate': [0.075,0.07],\n",
    "                'gbc__max_depth': [6,7],\n",
    "                'gbc__min_samples_leaf': [7,8],\n",
    "                'gbc__max_features': [1.0],\n",
    "                'gbc__n_estimators':[100, 200]}\n",
    "                \n",
    "gbc = GridSearchCV(estimator=pipe,\n",
    "                    param_grid=param_grid,\n",
    "                    n_jobs=-1)\n",
    "\n",
    "\n",
    "# fit training data using grid search\n",
    "\n",
    "gbc.fit(X_train, y_train)\n",
    "\n",
    "# predict testing data using grid search\n",
    "\n",
    "y_pred_1 = gbc.predict(X_test)"
   ]
  },
  {
   "cell_type": "code",
   "execution_count": 22,
   "metadata": {},
   "outputs": [],
   "source": [
    "import numpy as np \n",
    "import pandas as pd \n",
    "\n",
    "import matplotlib.pyplot as plt\n",
    "import seaborn as sns\n",
    "%matplotlib inline\n",
    "\n",
    "from sklearn.model_selection import train_test_split\n",
    "from sklearn.model_selection import GridSearchCV\n",
    "\n",
    "from sklearn.metrics import accuracy_score, recall_score, precision_score, f1_score\n",
    "from sklearn.metrics import confusion_matrix, plot_confusion_matrix\n",
    "\n",
    "from sklearn.tree import DecisionTreeClassifier\n",
    "\n",
    "from sklearn.neighbors import KNeighborsClassifier\n",
    "\n",
    "from sklearn.preprocessing import OneHotEncoder\n",
    "from sklearn.preprocessing import FunctionTransformer\n",
    "from sklearn.preprocessing import StandardScaler\n",
    "from sklearn.preprocessing import MinMaxScaler\n",
    "\n",
    "from sklearn.compose import ColumnTransformer\n",
    "\n",
    "from sklearn.pipeline import Pipeline\n",
    "\n",
    "from imblearn.over_sampling import SMOTE\n",
    "\n",
    "from sklearn.ensemble import RandomForestClassifier\n",
    "from sklearn.ensemble import AdaBoostClassifier, GradientBoostingClassifier"
   ]
  },
  {
   "cell_type": "code",
   "execution_count": 23,
   "metadata": {},
   "outputs": [
    {
     "data": {
      "text/html": [
       "<div>\n",
       "<style scoped>\n",
       "    .dataframe tbody tr th:only-of-type {\n",
       "        vertical-align: middle;\n",
       "    }\n",
       "\n",
       "    .dataframe tbody tr th {\n",
       "        vertical-align: top;\n",
       "    }\n",
       "\n",
       "    .dataframe thead th {\n",
       "        text-align: right;\n",
       "    }\n",
       "</style>\n",
       "<table border=\"1\" class=\"dataframe\">\n",
       "  <thead>\n",
       "    <tr style=\"text-align: right;\">\n",
       "      <th></th>\n",
       "      <th>id</th>\n",
       "      <th>amount_tsh</th>\n",
       "      <th>funder</th>\n",
       "      <th>gps_height</th>\n",
       "      <th>installer</th>\n",
       "      <th>longitude</th>\n",
       "      <th>latitude</th>\n",
       "      <th>basin</th>\n",
       "      <th>region</th>\n",
       "      <th>population</th>\n",
       "      <th>public_meeting</th>\n",
       "      <th>construction_year</th>\n",
       "      <th>extraction_type_group</th>\n",
       "      <th>management</th>\n",
       "      <th>payment_type</th>\n",
       "      <th>water_quality</th>\n",
       "      <th>quantity</th>\n",
       "      <th>source_type</th>\n",
       "      <th>waterpoint_type</th>\n",
       "      <th>status_group</th>\n",
       "    </tr>\n",
       "  </thead>\n",
       "  <tbody>\n",
       "    <tr>\n",
       "      <th>0</th>\n",
       "      <td>69572</td>\n",
       "      <td>6000.0</td>\n",
       "      <td>Roman</td>\n",
       "      <td>1390.0</td>\n",
       "      <td>Roman</td>\n",
       "      <td>34.938093</td>\n",
       "      <td>-9.856322</td>\n",
       "      <td>Lake Nyasa</td>\n",
       "      <td>Iringa</td>\n",
       "      <td>109.0</td>\n",
       "      <td>True</td>\n",
       "      <td>1999</td>\n",
       "      <td>gravity</td>\n",
       "      <td>vwc</td>\n",
       "      <td>annually</td>\n",
       "      <td>soft</td>\n",
       "      <td>enough</td>\n",
       "      <td>spring</td>\n",
       "      <td>communal standpipe</td>\n",
       "      <td>functional</td>\n",
       "    </tr>\n",
       "    <tr>\n",
       "      <th>1</th>\n",
       "      <td>34310</td>\n",
       "      <td>25.0</td>\n",
       "      <td>Lottery Club</td>\n",
       "      <td>686.0</td>\n",
       "      <td>World vision</td>\n",
       "      <td>37.460664</td>\n",
       "      <td>-3.821329</td>\n",
       "      <td>Pangani</td>\n",
       "      <td>Manyara</td>\n",
       "      <td>250.0</td>\n",
       "      <td>True</td>\n",
       "      <td>2009</td>\n",
       "      <td>gravity</td>\n",
       "      <td>vwc</td>\n",
       "      <td>per bucket</td>\n",
       "      <td>soft</td>\n",
       "      <td>enough</td>\n",
       "      <td>dam</td>\n",
       "      <td>communal standpipe multiple</td>\n",
       "      <td>functional</td>\n",
       "    </tr>\n",
       "    <tr>\n",
       "      <th>2</th>\n",
       "      <td>67743</td>\n",
       "      <td>0.0</td>\n",
       "      <td>Unicef</td>\n",
       "      <td>263.0</td>\n",
       "      <td>UNICEF</td>\n",
       "      <td>38.486161</td>\n",
       "      <td>-11.155298</td>\n",
       "      <td>Ruvuma / Southern Coast</td>\n",
       "      <td>Mtwara</td>\n",
       "      <td>58.0</td>\n",
       "      <td>True</td>\n",
       "      <td>1986</td>\n",
       "      <td>submersible</td>\n",
       "      <td>vwc</td>\n",
       "      <td>never pay</td>\n",
       "      <td>soft</td>\n",
       "      <td>dry</td>\n",
       "      <td>borehole</td>\n",
       "      <td>communal standpipe multiple</td>\n",
       "      <td>non functional</td>\n",
       "    </tr>\n",
       "    <tr>\n",
       "      <th>3</th>\n",
       "      <td>19728</td>\n",
       "      <td>0.0</td>\n",
       "      <td>Action In A</td>\n",
       "      <td>0.0</td>\n",
       "      <td>Artisan</td>\n",
       "      <td>31.130847</td>\n",
       "      <td>-1.825359</td>\n",
       "      <td>Lake Victoria</td>\n",
       "      <td>Kagera</td>\n",
       "      <td>0.0</td>\n",
       "      <td>True</td>\n",
       "      <td>0</td>\n",
       "      <td>gravity</td>\n",
       "      <td>other</td>\n",
       "      <td>never pay</td>\n",
       "      <td>soft</td>\n",
       "      <td>seasonal</td>\n",
       "      <td>rainwater harvesting</td>\n",
       "      <td>communal standpipe</td>\n",
       "      <td>functional</td>\n",
       "    </tr>\n",
       "    <tr>\n",
       "      <th>4</th>\n",
       "      <td>9944</td>\n",
       "      <td>20.0</td>\n",
       "      <td>Mkinga Distric Coun</td>\n",
       "      <td>0.0</td>\n",
       "      <td>DWE</td>\n",
       "      <td>39.172796</td>\n",
       "      <td>-4.765587</td>\n",
       "      <td>Pangani</td>\n",
       "      <td>Tanga</td>\n",
       "      <td>1.0</td>\n",
       "      <td>True</td>\n",
       "      <td>2009</td>\n",
       "      <td>submersible</td>\n",
       "      <td>vwc</td>\n",
       "      <td>per bucket</td>\n",
       "      <td>salty</td>\n",
       "      <td>enough</td>\n",
       "      <td>other</td>\n",
       "      <td>communal standpipe multiple</td>\n",
       "      <td>functional</td>\n",
       "    </tr>\n",
       "  </tbody>\n",
       "</table>\n",
       "</div>"
      ],
      "text/plain": [
       "      id  amount_tsh               funder  gps_height     installer  \\\n",
       "0  69572      6000.0                Roman      1390.0         Roman   \n",
       "1  34310        25.0         Lottery Club       686.0  World vision   \n",
       "2  67743         0.0               Unicef       263.0        UNICEF   \n",
       "3  19728         0.0          Action In A         0.0       Artisan   \n",
       "4   9944        20.0  Mkinga Distric Coun         0.0           DWE   \n",
       "\n",
       "   longitude   latitude                    basin   region  population  \\\n",
       "0  34.938093  -9.856322               Lake Nyasa   Iringa       109.0   \n",
       "1  37.460664  -3.821329                  Pangani  Manyara       250.0   \n",
       "2  38.486161 -11.155298  Ruvuma / Southern Coast   Mtwara        58.0   \n",
       "3  31.130847  -1.825359            Lake Victoria   Kagera         0.0   \n",
       "4  39.172796  -4.765587                  Pangani    Tanga         1.0   \n",
       "\n",
       "   public_meeting  construction_year extraction_type_group management  \\\n",
       "0            True               1999               gravity        vwc   \n",
       "1            True               2009               gravity        vwc   \n",
       "2            True               1986           submersible        vwc   \n",
       "3            True                  0               gravity      other   \n",
       "4            True               2009           submersible        vwc   \n",
       "\n",
       "  payment_type water_quality  quantity           source_type  \\\n",
       "0     annually          soft    enough                spring   \n",
       "1   per bucket          soft    enough                   dam   \n",
       "2    never pay          soft       dry              borehole   \n",
       "3    never pay          soft  seasonal  rainwater harvesting   \n",
       "4   per bucket         salty    enough                 other   \n",
       "\n",
       "               waterpoint_type    status_group  \n",
       "0           communal standpipe      functional  \n",
       "1  communal standpipe multiple      functional  \n",
       "2  communal standpipe multiple  non functional  \n",
       "3           communal standpipe      functional  \n",
       "4  communal standpipe multiple      functional  "
      ]
     },
     "execution_count": 23,
     "metadata": {},
     "output_type": "execute_result"
    }
   ],
   "source": [
    "data = pd.read_csv(r'C:\\Users\\user\\Documents\\Tanzania Water Wells\\clean_data.csv')\n",
    "data.head()"
   ]
  },
  {
   "cell_type": "code",
   "execution_count": 24,
   "metadata": {},
   "outputs": [
    {
     "data": {
      "text/plain": [
       "functional                 28643\n",
       "non functional             20188\n",
       "functional needs repair     3729\n",
       "Name: status_group, dtype: int64"
      ]
     },
     "execution_count": 24,
     "metadata": {},
     "output_type": "execute_result"
    }
   ],
   "source": [
    "data['status_group'].value_counts()"
   ]
  },
  {
   "cell_type": "code",
   "execution_count": 25,
   "metadata": {},
   "outputs": [
    {
     "data": {
      "text/plain": [
       "52560"
      ]
     },
     "execution_count": 25,
     "metadata": {},
     "output_type": "execute_result"
    }
   ],
   "source": [
    "data['status_group'].value_counts().sum()"
   ]
  },
  {
   "attachments": {},
   "cell_type": "markdown",
   "metadata": {},
   "source": [
    "Pick 6k samples from functional and 4k samples from non functional and add them to functional but needs repair\n",
    "\n",
    "Make sure the positions are still the same, functional has the most, non functional second and functional needs repair the least .\n",
    "\n",
    "Total should still be the same "
   ]
  },
  {
   "cell_type": "code",
   "execution_count": 26,
   "metadata": {},
   "outputs": [],
   "source": [
    "functional_adjusted = (data['status_group'] == 'functional').sum() - 6000\n",
    "non_functional_adjusted = (data['status_group'] == 'non functional').sum() - 4000\n",
    "functional_needs_repair_adjusted = (data['status_group'] == 'functional needs repair').sum() + 10000"
   ]
  },
  {
   "cell_type": "code",
   "execution_count": 27,
   "metadata": {},
   "outputs": [],
   "source": [
    "replacement_map = {\n",
    "                    'functional' : 'functional_adjusted',\n",
    "                    'non functional' : 'non_functional_adjusted',\n",
    "                    'functional needs repair' : 'functional_needs_repair_adjusted' }"
   ]
  },
  {
   "cell_type": "code",
   "execution_count": 28,
   "metadata": {},
   "outputs": [],
   "source": [
    "data['status_group'] = data['status_group'].map(replacement_map)"
   ]
  },
  {
   "cell_type": "code",
   "execution_count": 29,
   "metadata": {},
   "outputs": [
    {
     "data": {
      "text/plain": [
       "functional_adjusted                 28643\n",
       "non_functional_adjusted             20188\n",
       "functional_needs_repair_adjusted     3729\n",
       "Name: status_group, dtype: int64"
      ]
     },
     "execution_count": 29,
     "metadata": {},
     "output_type": "execute_result"
    }
   ],
   "source": [
    "data['status_group'].value_counts()"
   ]
  },
  {
   "cell_type": "code",
   "execution_count": 30,
   "metadata": {},
   "outputs": [],
   "source": [
    "data.loc[data['status_group'] == 'functional', 'status_group'] = 'functional_adjusted'\n",
    "data.loc[data['status_group'] == 'non functional', 'status_group'] = 'non functional_adjusted'\n",
    "data.loc[data['status_group'] == 'functional needs repair', 'status_group'] = 'functional needs repair_adjusted'\n",
    "\n",
    "# Subtract 6000 from the count of 'functional_adjusted'\n",
    "data.loc[data['status_group'] == 'functional_adjusted', 'status_group'] = 'functional_adjusted_minus_6000'\n",
    "\n",
    "# Subtract 4000 from the count of 'non functional_adjusted'\n",
    "data.loc[data['status_group'] == 'non functional_adjusted', 'status_group'] = 'non functional_adjusted_minus_4000'\n",
    "\n",
    "# Add 10000 to the count of 'functional needs repair_adjusted'\n",
    "data.loc[data['status_group'] == 'functional needs repair_adjusted', 'status_group'] = 'functional needs repair_adjusted_plus_10000'\n"
   ]
  },
  {
   "cell_type": "code",
   "execution_count": 31,
   "metadata": {},
   "outputs": [
    {
     "data": {
      "text/plain": [
       "functional_adjusted_minus_6000      28643\n",
       "non_functional_adjusted             20188\n",
       "functional_needs_repair_adjusted     3729\n",
       "Name: status_group, dtype: int64"
      ]
     },
     "execution_count": 31,
     "metadata": {},
     "output_type": "execute_result"
    }
   ],
   "source": [
    "data['status_group'].value_counts()"
   ]
  },
  {
   "cell_type": "code",
   "execution_count": null,
   "metadata": {},
   "outputs": [],
   "source": []
  }
 ],
 "metadata": {
  "kernelspec": {
   "display_name": "Python (learn-env)",
   "language": "python",
   "name": "learn-env"
  },
  "language_info": {
   "codemirror_mode": {
    "name": "ipython",
    "version": 3
   },
   "file_extension": ".py",
   "mimetype": "text/x-python",
   "name": "python",
   "nbconvert_exporter": "python",
   "pygments_lexer": "ipython3",
   "version": "3.8.5"
  },
  "orig_nbformat": 4
 },
 "nbformat": 4,
 "nbformat_minor": 2
}
